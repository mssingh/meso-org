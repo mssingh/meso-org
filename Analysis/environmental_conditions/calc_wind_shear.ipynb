{
 "cells": [
  {
   "cell_type": "code",
   "execution_count": 1,
   "id": "040f11e1-d3af-4bab-ae3a-13b9208923bf",
   "metadata": {},
   "outputs": [],
   "source": [
    "import xarray as xr\n",
    "import numpy as np\n",
    "import matplotlib.pyplot as plt\n",
    "from glob import glob"
   ]
  },
  {
   "cell_type": "code",
   "execution_count": 2,
   "id": "a8e2bf5f-da8b-49fe-aa13-57f8b96e7f02",
   "metadata": {},
   "outputs": [],
   "source": [
    "## ERA5\n",
    "ds_u = xr.open_mfdataset(sorted(glob(\"/g/data/k10/cr7888/era5_daily_means_5deg/u/*.nc\")))\n",
    "ds_v = xr.open_mfdataset(sorted(glob(\"/g/data/k10/cr7888/era5_daily_means_5deg/v/*.nc\")))"
   ]
  },
  {
   "cell_type": "code",
   "execution_count": 4,
   "id": "cdb0b673-2645-4544-ac4e-cd36a4f30913",
   "metadata": {},
   "outputs": [],
   "source": [
    "u500 = ds_u[\"u\"].sel(level=500)\n",
    "u1000 = ds_u[\"u\"].sel(level=1000)\n",
    "\n",
    "v500 = ds_v[\"v\"].sel(level=500)\n",
    "v1000 = ds_v[\"v\"].sel(level=1000)\n"
   ]
  },
  {
   "cell_type": "code",
   "execution_count": 8,
   "id": "f8a0adf8-71df-41f9-bfb5-ac7ee7a4f651",
   "metadata": {},
   "outputs": [],
   "source": [
    "## ChatGPT made my old wind direction function fancy\n",
    "def calc_wdir_xr(u: xr.DataArray, v: xr.DataArray) -> xr.DataArray:\n",
    "    \"\"\"\n",
    "    Calculate wind direction from u and v components using xarray,\n",
    "    returning direction in degrees from which the wind is blowing (0° = north).\n",
    "    \"\"\"\n",
    "\n",
    "    wdir = np.arctan2(u, v) * 180 / np.pi\n",
    "    wdir = xr.where(wdir < 0, wdir + 360, wdir)\n",
    "\n",
    "    # Optionally assign metadata\n",
    "    wdir.name = \"wind_direction\"\n",
    "    wdir.attrs[\"units\"] = \"degrees\"\n",
    "    wdir.attrs[\"description\"] = \"Meteorological wind direction (0° = north, 90° = east)\"\n",
    "\n",
    "    return wdir"
   ]
  },
  {
   "cell_type": "code",
   "execution_count": 9,
   "id": "237abc0c-78a5-477a-9dc3-481544134e68",
   "metadata": {},
   "outputs": [],
   "source": [
    "wdir500 = calc_wdir_xr(u500, v500)\n",
    "wdir1000 = calc_wdir_xr(u1000, v1000)\n"
   ]
  },
  {
   "cell_type": "code",
   "execution_count": 10,
   "id": "4d3d463a-61fc-472e-a74a-4c7f554234c3",
   "metadata": {},
   "outputs": [],
   "source": [
    "vertical_shear = np.sqrt( (u500-u1000)**2 + (v500-v1000)**2 )\n",
    "wdir_shear = wdir500-wdir1000"
   ]
  },
  {
   "cell_type": "code",
   "execution_count": 12,
   "id": "7d2b94ff-ccb2-43e4-be88-9c01adfd39fe",
   "metadata": {},
   "outputs": [
    {
     "name": "stdout",
     "output_type": "stream",
     "text": [
      "CPU times: user 46.8 s, sys: 7.03 s, total: 53.8 s\n",
      "Wall time: 1min 24s\n"
     ]
    }
   ],
   "source": [
    "%%time \n",
    "vertical_shear = vertical_shear.compute()"
   ]
  },
  {
   "cell_type": "code",
   "execution_count": 18,
   "id": "3590b406-334b-4fa1-a4c6-9f606bb28cc2",
   "metadata": {},
   "outputs": [],
   "source": [
    "vertical_shear.attrs[\"units\"] = \"m/s\"\n",
    "vertical_shear.attrs[\"description\"] = \"wind speed shear between 500 hPa and 1000 hPa\""
   ]
  },
  {
   "cell_type": "code",
   "execution_count": 14,
   "id": "0c1a68a4-e9ba-49f0-aa9c-2c3ce9f81bd4",
   "metadata": {},
   "outputs": [
    {
     "name": "stdout",
     "output_type": "stream",
     "text": [
      "CPU times: user 44.7 s, sys: 2.96 s, total: 47.7 s\n",
      "Wall time: 49 s\n"
     ]
    }
   ],
   "source": [
    "%%time\n",
    "wdir_shear = wdir_shear.compute()"
   ]
  },
  {
   "cell_type": "code",
   "execution_count": 21,
   "id": "1c0e89a3-f9a1-4e10-8513-a27a0d82d5f3",
   "metadata": {},
   "outputs": [],
   "source": [
    "wdir_shear.attrs[\"units\"] = \"m/s\"\n",
    "wdir_shear.attrs[\"description\"] = \"wind direction shear between 500 hPa and 1000 hPa\""
   ]
  },
  {
   "cell_type": "code",
   "execution_count": 22,
   "id": "a57dffab-80a0-4b17-9117-e4891174934b",
   "metadata": {},
   "outputs": [],
   "source": [
    "ds_shear = xr.Dataset({\n",
    "    \"direction_shear\": wdir_shear,\n",
    "    \"vertical_shear\": vertical_shear\n",
    "})"
   ]
  },
  {
   "cell_type": "code",
   "execution_count": 23,
   "id": "c694ba24-048a-4444-b804-8adc4c052a78",
   "metadata": {},
   "outputs": [],
   "source": [
    "## save it to netcdf \n",
    "ds_shear.to_netcdf(\"/g/data/k10/dl6968/meso_org_data/ERA5_5deg/wind_shear_500-1000hpa.nc\")"
   ]
  },
  {
   "cell_type": "code",
   "execution_count": 24,
   "id": "0a883dc3-f82c-4808-86e0-bd3e70816d16",
   "metadata": {},
   "outputs": [],
   "source": [
    "ds_u.close()\n",
    "ds_v.close()\n",
    "ds_shear.close()"
   ]
  },
  {
   "cell_type": "code",
   "execution_count": null,
   "id": "58dd008e-60b7-4028-a6b2-b04f126ea7e5",
   "metadata": {},
   "outputs": [],
   "source": []
  }
 ],
 "metadata": {
  "kernelspec": {
   "display_name": "Python [conda env:myenv]",
   "language": "python",
   "name": "conda-env-myenv-py"
  },
  "language_info": {
   "codemirror_mode": {
    "name": "ipython",
    "version": 3
   },
   "file_extension": ".py",
   "mimetype": "text/x-python",
   "name": "python",
   "nbconvert_exporter": "python",
   "pygments_lexer": "ipython3",
   "version": "3.9.7"
  }
 },
 "nbformat": 4,
 "nbformat_minor": 5
}
